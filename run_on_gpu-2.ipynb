{
  "nbformat": 4,
  "nbformat_minor": 0,
  "metadata": {
    "colab": {
      "provenance": [],
      "gpuType": "T4"
    },
    "kernelspec": {
      "name": "python3",
      "display_name": "Python 3"
    },
    "language_info": {
      "name": "python"
    },
    "accelerator": "GPU"
  },
  "cells": [
    {
      "cell_type": "code",
      "execution_count": 1,
      "metadata": {
        "id": "DhFCTNuE96SL",
        "colab": {
          "base_uri": "https://localhost:8080/"
        },
        "outputId": "de03bc18-a6d7-4fab-a26b-dc9ade2e533b"
      },
      "outputs": [
        {
          "output_type": "stream",
          "name": "stdout",
          "text": [
            "Cloning into 'ML_4_MAXCUT'...\n",
            "remote: Enumerating objects: 436, done.\u001b[K\n",
            "remote: Counting objects: 100% (44/44), done.\u001b[K\n",
            "remote: Compressing objects: 100% (30/30), done.\u001b[K\n",
            "remote: Total 436 (delta 19), reused 32 (delta 14), pack-reused 392 (from 1)\u001b[K\n",
            "Receiving objects: 100% (436/436), 341.42 MiB | 29.66 MiB/s, done.\n",
            "Resolving deltas: 100% (192/192), done.\n"
          ]
        }
      ],
      "source": [
        "import torch\n",
        "torch.cuda.is_available()"
      ]
    },
    {
      "cell_type": "code",
      "source": [
        "!git clone https://github.com/victor99pekk/ML_4_MAXCUT.git\n",
        "%cd ML_4_MAXCUT"
      ],
      "metadata": {
        "colab": {
          "base_uri": "https://localhost:8080/"
        },
        "id": "XYm-Pjl_-U5I",
        "outputId": "074fbb59-feb4-4d37-c0e1-785cc1e6834f"
      },
      "execution_count": 2,
      "outputs": [
        {
          "output_type": "execute_result",
          "data": {
            "text/plain": [
              "True"
            ]
          },
          "metadata": {},
          "execution_count": 2
        }
      ]
    },
    {
      "cell_type": "code",
      "source": [
        "!python data/generate_data/maxcut_ml.py --datatype train --nbr_nodes 5"
      ],
      "metadata": {
        "colab": {
          "base_uri": "https://localhost:8080/"
        },
        "id": "0WvVPhxd-leZ",
        "outputId": "cf64b75f-ecf5-40ae-dee4-89003c12c6aa"
      },
      "execution_count": 4,
      "outputs": [
        {
          "output_type": "stream",
          "name": "stdout",
          "text": [
            "object address  : 0x13f5eabe0ca0\n",
            "object refcount : 2\n",
            "object type     : 0x9d7580\n",
            "object type name: KeyboardInterrupt\n",
            "object repr     : KeyboardInterrupt()\n",
            "lost sys.stderr\n",
            "^C\n"
          ]
        }
      ]
    },
    {
      "cell_type": "code",
      "source": [
        "!python neural_network/train_network.py"
      ],
      "metadata": {
        "id": "2uvb-vFa-88D"
      },
      "execution_count": null,
      "outputs": []
    }
  ]
}